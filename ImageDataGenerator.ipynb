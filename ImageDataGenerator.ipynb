{
 "cells": [
   {
   "cell_type": "markdown",
   "id": "b0b36043",
   "metadata": {},
   "source": [
    "#### Importing necessary packages"
   ]
  },
  {
   "cell_type": "code",
   "execution_count": 1,
   "id": "6e36ae99",
   "metadata": {},
   "outputs": [],
   "source": [
    "import tensorflow\n",
    "import keras\n",
    "from keras.datasets import cifar10\n",
    "from keras.models import Sequential\n",
    "from keras.layers import Dropout,Flatten,MaxPooling2D,Conv2D,Dense\n",
    "from keras.preprocessing.image import ImageDataGenerator\n",
    "from keras.utils import to_categorical"
   ]
  },
  {
   "cell_type": "markdown",
   "id": "d27061e6",
   "metadata": {},
   "source": [
    "#### Loading the dataset"
   ]
  },
  {
   "cell_type": "code",
   "execution_count": 2,
   "id": "95392582",
   "metadata": {},
   "outputs": [],
   "source": [
    "#loading the dataset into train and test\n",
    "(x_train,y_train),(x_test,y_test) = cifar10.load_data()"
   ]
  },
  {
   "cell_type": "markdown",
   "id": "880fc6d8",
   "metadata": {},
   "source": [
    "#### Converting into Categorical Value"
   ]
  },
  {
   "cell_type": "code",
   "execution_count": 3,
   "id": "e9be48ae",
   "metadata": {},
   "outputs": [],
   "source": [
    "#convert into categorical value\n",
    "num_classes =10\n",
    "y_train = to_categorical(y_train,num_classes)\n",
    "y_test = to_categorical(y_test,num_classes)"
   ]
  },
  {
   "cell_type": "code",
   "execution_count": 4,
   "id": "58508bbc",
   "metadata": {},
   "outputs": [
    {
     "data": {
      "text/plain": [
       "array([[0., 0., 0., ..., 0., 0., 0.],\n",
       "       [0., 0., 0., ..., 0., 0., 1.],\n",
       "       [0., 0., 0., ..., 0., 0., 1.],\n",
       "       ...,\n",
       "       [0., 0., 0., ..., 0., 0., 1.],\n",
       "       [0., 1., 0., ..., 0., 0., 0.],\n",
       "       [0., 1., 0., ..., 0., 0., 0.]], dtype=float32)"
      ]
     },
     "execution_count": 4,
     "metadata": {},
     "output_type": "execute_result"
    }
   ],
   "source": [
    "y_train"
   ]
  },
  {
   "cell_type": "markdown",
   "id": "cf2b5143",
   "metadata": {},
   "source": [
    "#### Normalization of X values"
   ]
  },
  {
   "cell_type": "code",
   "execution_count": 4,
   "id": "874fb2c2",
   "metadata": {},
   "outputs": [],
   "source": [
    "#Normalization\n",
    "x_train = x_train/255\n",
    "x_test = x_test/255"
   ]
  },
  {
   "cell_type": "markdown",
   "id": "e4109a3d",
   "metadata": {},
   "source": [
    "#### Building the Baseline model"
   ]
  },
  {
   "cell_type": "code",
   "execution_count": 5,
   "id": "298c48f2",
   "metadata": {},
   "outputs": [],
   "source": [
    "#base line model \n",
    "def bmodel():\n",
    "    model =Sequential()\n",
    "    model.add(Conv2D(32,(5,5),strides =(2,2),padding='same',\n",
    "                    input_shape=x_train.shape[1:],activation='relu'))\n",
    "    model.add(Conv2D(32,(5,5),strides =(2,2),activation = 'relu'))\n",
    "    \n",
    "    model.add(MaxPooling2D(pool_size=(2,2)))\n",
    "    model.add(Dropout(0.25))\n",
    "    #flatten\n",
    "    model.add(Flatten())\n",
    "    model.add(Dense(512,activation='relu'))\n",
    "    model.add(Dropout(0.5))\n",
    "    model.add(Dense(num_classes,activation='softmax'))\n",
    "    return model\n"
   ]
  },
  {
   "cell_type": "code",
   "execution_count": 6,
   "id": "bc9d4fbc",
   "metadata": {},
   "outputs": [
    {
     "name": "stdout",
     "output_type": "stream",
     "text": [
      "Model: \"sequential\"\n",
      "_________________________________________________________________\n",
      " Layer (type)                Output Shape              Param #   \n",
      "=================================================================\n",
      " conv2d (Conv2D)             (None, 16, 16, 32)        2432      \n",
      "                                                                 \n",
      " conv2d_1 (Conv2D)           (None, 6, 6, 32)          25632     \n",
      "                                                                 \n",
      " max_pooling2d (MaxPooling2D  (None, 3, 3, 32)         0         \n",
      " )                                                               \n",
      "                                                                 \n",
      " dropout (Dropout)           (None, 3, 3, 32)          0         \n",
      "                                                                 \n",
      " flatten (Flatten)           (None, 288)               0         \n",
      "                                                                 \n",
      " dense (Dense)               (None, 512)               147968    \n",
      "                                                                 \n",
      " dropout_1 (Dropout)         (None, 512)               0         \n",
      "                                                                 \n",
      " dense_1 (Dense)             (None, 10)                5130      \n",
      "                                                                 \n",
      "=================================================================\n",
      "Total params: 181,162\n",
      "Trainable params: 181,162\n",
      "Non-trainable params: 0\n",
      "_________________________________________________________________\n"
     ]
    }
   ],
   "source": [
    "model_1 = bmodel()\n",
    "model_1.summary()"
   ]
  },
  {
   "cell_type": "markdown",
   "id": "8a548cc7",
   "metadata": {},
   "source": [
    "#### Compiling the model"
   ]
  },
  {
   "cell_type": "code",
   "execution_count": 7,
   "id": "0ba4fa38",
   "metadata": {},
   "outputs": [
    {
     "name": "stderr",
     "output_type": "stream",
     "text": [
      "C:\\Users\\Bharat\\anaconda3\\lib\\site-packages\\keras\\optimizers\\optimizer_v2\\rmsprop.py:135: UserWarning: The `lr` argument is deprecated, use `learning_rate` instead.\n",
      "  super(RMSprop, self).__init__(name, **kwargs)\n"
     ]
    }
   ],
   "source": [
    "#training phase\n",
    "batch_size = 32\n",
    "\n",
    "opt = keras.optimizers.RMSprop(lr=0.0005,decay=1e-6)\n",
    "\n",
    "model_1.compile(loss='categorical_crossentropy',optimizer = opt,\n",
    "               metrics=['accuracy'])\n"
   ]
  },
  {
   "cell_type": "markdown",
   "id": "110a2eee",
   "metadata": {},
   "source": [
    "#### Data Agumentation"
   ]
  },
  {
   "cell_type": "code",
   "execution_count": 8,
   "id": "9adcfa43",
   "metadata": {},
   "outputs": [],
   "source": [
    "# agumentaion steps like flipping,scaling\n",
    "datagen= ImageDataGenerator(featurewise_center = False,\n",
    "                           samplewise_std_normalization = False,\n",
    "                           featurewise_std_normalization = False,\n",
    "                           zca_whitening = False,\n",
    "                           rotation_range = 0,\n",
    "                           width_shift_range = 0.1,\n",
    "                           height_shift_range=0.1,\n",
    "                           horizontal_flip = True,\n",
    "                           vertical_flip = False)"
   ]
  },
  {
   "cell_type": "code",
   "execution_count": 9,
   "id": "559c0978",
   "metadata": {},
   "outputs": [],
   "source": [
    "datagen.fit(x_train)"
   ]
  },
  {
   "cell_type": "code",
   "execution_count": 10,
   "id": "28d03be6",
   "metadata": {},
   "outputs": [
    {
     "name": "stdout",
     "output_type": "stream",
     "text": [
      "Epoch 1/15\n"
     ]
    },
    {
     "name": "stderr",
     "output_type": "stream",
     "text": [
      "C:\\Users\\Bharat\\AppData\\Local\\Temp\\ipykernel_14300\\781482334.py:1: UserWarning: `Model.fit_generator` is deprecated and will be removed in a future version. Please use `Model.fit`, which supports generators.\n",
      "  model_1.fit_generator(datagen.flow(x_train,y_train,\n"
     ]
    },
    {
     "name": "stdout",
     "output_type": "stream",
     "text": [
      "1562/1562 [==============================] - 67s 42ms/step - loss: 1.7836 - accuracy: 0.3458 - val_loss: 1.4508 - val_accuracy: 0.4811\n",
      "Epoch 2/15\n",
      "1562/1562 [==============================] - 65s 42ms/step - loss: 1.5207 - accuracy: 0.4478 - val_loss: 1.3022 - val_accuracy: 0.5297\n",
      "Epoch 3/15\n",
      "1562/1562 [==============================] - 65s 42ms/step - loss: 1.4198 - accuracy: 0.4895 - val_loss: 1.2096 - val_accuracy: 0.5681\n",
      "Epoch 4/15\n",
      "1562/1562 [==============================] - 65s 42ms/step - loss: 1.3536 - accuracy: 0.5153 - val_loss: 1.1916 - val_accuracy: 0.5790\n",
      "Epoch 5/15\n",
      "1562/1562 [==============================] - 65s 41ms/step - loss: 1.3220 - accuracy: 0.5301 - val_loss: 1.1667 - val_accuracy: 0.5883\n",
      "Epoch 6/15\n",
      "1562/1562 [==============================] - 65s 42ms/step - loss: 1.2991 - accuracy: 0.5377 - val_loss: 1.1566 - val_accuracy: 0.5937\n",
      "Epoch 7/15\n",
      "1562/1562 [==============================] - 65s 42ms/step - loss: 1.2781 - accuracy: 0.5465 - val_loss: 1.1557 - val_accuracy: 0.5951\n",
      "Epoch 8/15\n",
      "1562/1562 [==============================] - 65s 41ms/step - loss: 1.2631 - accuracy: 0.5555 - val_loss: 1.0936 - val_accuracy: 0.6156\n",
      "Epoch 9/15\n",
      "1562/1562 [==============================] - 66s 42ms/step - loss: 1.2566 - accuracy: 0.5573 - val_loss: 1.1292 - val_accuracy: 0.6005\n",
      "Epoch 10/15\n",
      "1562/1562 [==============================] - 67s 43ms/step - loss: 1.2588 - accuracy: 0.5605 - val_loss: 1.1489 - val_accuracy: 0.5965\n",
      "Epoch 11/15\n",
      "1562/1562 [==============================] - 66s 42ms/step - loss: 1.2456 - accuracy: 0.5662 - val_loss: 1.0717 - val_accuracy: 0.6253\n",
      "Epoch 12/15\n",
      "1562/1562 [==============================] - 65s 42ms/step - loss: 1.2471 - accuracy: 0.5666 - val_loss: 1.0801 - val_accuracy: 0.6234\n",
      "Epoch 13/15\n",
      "1562/1562 [==============================] - 65s 42ms/step - loss: 1.2488 - accuracy: 0.5691 - val_loss: 1.2174 - val_accuracy: 0.5832\n",
      "Epoch 14/15\n",
      "1562/1562 [==============================] - 65s 42ms/step - loss: 1.2509 - accuracy: 0.5667 - val_loss: 1.0891 - val_accuracy: 0.6165\n",
      "Epoch 15/15\n",
      "1562/1562 [==============================] - 66s 42ms/step - loss: 1.2534 - accuracy: 0.5682 - val_loss: 1.2419 - val_accuracy: 0.5850\n"
     ]
    },
    {
     "data": {
      "text/plain": [
       "<keras.callbacks.History at 0x1dc98524490>"
      ]
     },
     "execution_count": 10,
     "metadata": {},
     "output_type": "execute_result"
    }
   ],
   "source": [
    "model_1.fit_generator(datagen.flow(x_train,y_train,\n",
    "                                batch_size=batch_size),\n",
    "                   steps_per_epoch = x_train.shape[0]//batch_size,\n",
    "                   epochs = 15,\n",
    "                   validation_data = (x_test,y_test))"
   ]
  },
  {
   "cell_type": "code",
   "execution_count": 11,
   "id": "80e9edae",
   "metadata": {},
   "outputs": [
    {
     "name": "stdout",
     "output_type": "stream",
     "text": [
      "313/313 [==============================] - 3s 9ms/step - loss: 1.2419 - accuracy: 0.5850\n"
     ]
    }
   ],
   "source": [
    "eval_1 = model_1.evaluate(x_test,y_test)"
   ]
  },
  {
   "cell_type": "code",
   "execution_count": 12,
   "id": "1a2af5c7",
   "metadata": {},
   "outputs": [
    {
     "name": "stdout",
     "output_type": "stream",
     "text": [
      "Loss of the model-1: 1.241910457611084\n",
      "Accuracy of the model-1: 0.5849999785423279\n"
     ]
    }
   ],
   "source": [
    "print('Loss of the model-1:',eval_1[0])\n",
    "print('Accuracy of the model-1:',eval_1[1])"
   ]
  },
  {
   "cell_type": "markdown",
   "id": "58110ba7",
   "metadata": {},
   "source": [
    "#### New Data Agumentation"
   ]
  },
  {
   "cell_type": "code",
   "execution_count": 17,
   "id": "39466fc9",
   "metadata": {},
   "outputs": [
    {
     "name": "stdout",
     "output_type": "stream",
     "text": [
      "Epoch 1/15\n"
     ]
    },
    {
     "name": "stderr",
     "output_type": "stream",
     "text": [
      "C:\\Users\\Bharat\\AppData\\Local\\Temp\\ipykernel_14300\\3525802350.py:18: UserWarning: `Model.fit_generator` is deprecated and will be removed in a future version. Please use `Model.fit`, which supports generators.\n",
      "  model_2.fit_generator(datagen.flow(x_train,y_train,\n"
     ]
    },
    {
     "name": "stdout",
     "output_type": "stream",
     "text": [
      "1562/1562 [==============================] - 67s 42ms/step - loss: 1.9628 - accuracy: 0.2729 - val_loss: 1.7032 - val_accuracy: 0.3840\n",
      "Epoch 2/15\n",
      "1562/1562 [==============================] - 65s 42ms/step - loss: 1.7926 - accuracy: 0.3467 - val_loss: 1.6002 - val_accuracy: 0.4226\n",
      "Epoch 3/15\n",
      "1562/1562 [==============================] - 66s 42ms/step - loss: 1.7294 - accuracy: 0.3710 - val_loss: 1.4875 - val_accuracy: 0.4605\n",
      "Epoch 4/15\n",
      "1562/1562 [==============================] - 68s 43ms/step - loss: 1.6851 - accuracy: 0.3924 - val_loss: 1.5649 - val_accuracy: 0.4330\n",
      "Epoch 5/15\n",
      "1562/1562 [==============================] - 68s 44ms/step - loss: 1.6517 - accuracy: 0.4072 - val_loss: 1.4945 - val_accuracy: 0.4574\n",
      "Epoch 6/15\n",
      "1562/1562 [==============================] - 68s 43ms/step - loss: 1.6322 - accuracy: 0.4123 - val_loss: 1.6596 - val_accuracy: 0.4148\n",
      "Epoch 7/15\n",
      "1562/1562 [==============================] - 67s 43ms/step - loss: 1.6165 - accuracy: 0.4201 - val_loss: 1.3903 - val_accuracy: 0.4988\n",
      "Epoch 8/15\n",
      "1562/1562 [==============================] - 68s 43ms/step - loss: 1.6040 - accuracy: 0.4265 - val_loss: 1.3903 - val_accuracy: 0.5018\n",
      "Epoch 9/15\n",
      "1562/1562 [==============================] - 68s 44ms/step - loss: 1.5985 - accuracy: 0.4293 - val_loss: 1.4533 - val_accuracy: 0.4779\n",
      "Epoch 10/15\n",
      "1562/1562 [==============================] - 68s 43ms/step - loss: 1.5863 - accuracy: 0.4334 - val_loss: 1.4030 - val_accuracy: 0.5073\n",
      "Epoch 11/15\n",
      "1562/1562 [==============================] - 68s 43ms/step - loss: 1.5890 - accuracy: 0.4338 - val_loss: 1.3973 - val_accuracy: 0.5029\n",
      "Epoch 12/15\n",
      "1562/1562 [==============================] - 68s 43ms/step - loss: 1.5915 - accuracy: 0.4349 - val_loss: 1.3883 - val_accuracy: 0.5107\n",
      "Epoch 13/15\n",
      "1562/1562 [==============================] - 68s 44ms/step - loss: 1.5901 - accuracy: 0.4341 - val_loss: 1.4197 - val_accuracy: 0.4989\n",
      "Epoch 14/15\n",
      "1562/1562 [==============================] - 68s 43ms/step - loss: 1.5878 - accuracy: 0.4365 - val_loss: 1.4720 - val_accuracy: 0.4768\n",
      "Epoch 15/15\n",
      "1562/1562 [==============================] - 68s 44ms/step - loss: 1.5875 - accuracy: 0.4377 - val_loss: 1.7103 - val_accuracy: 0.4402\n"
     ]
    },
    {
     "data": {
      "text/plain": [
       "<keras.callbacks.History at 0x1dc9e693850>"
      ]
     },
     "execution_count": 17,
     "metadata": {},
     "output_type": "execute_result"
    }
   ],
   "source": [
    "model_2 = bmodel()\n",
    "datagen= ImageDataGenerator(featurewise_center = False,\n",
    "                           samplewise_std_normalization = False,\n",
    "                           featurewise_std_normalization = False,\n",
    "                           zca_whitening = False,\n",
    "                           rotation_range = 60,\n",
    "                           width_shift_range = 0.1,\n",
    "                           height_shift_range=0.1,\n",
    "                           horizontal_flip = False,\n",
    "                           vertical_flip = True)\n",
    "\n",
    "opt = keras.optimizers.RMSprop(lr=0.0005,decay=1e-6)\n",
    "\n",
    "model_2.compile(loss='categorical_crossentropy',optimizer = opt,\n",
    "               metrics=['accuracy'])\n",
    "\n",
    "datagen.fit(x_train)\n",
    "model_2.fit_generator(datagen.flow(x_train,y_train,\n",
    "                                batch_size=batch_size),\n",
    "                   steps_per_epoch = x_train.shape[0]//batch_size,\n",
    "                   epochs = 15,\n",
    "                   validation_data = (x_test,y_test))"
   ]
  },
  {
   "cell_type": "code",
   "execution_count": 18,
   "id": "468d6087",
   "metadata": {},
   "outputs": [
    {
     "name": "stdout",
     "output_type": "stream",
     "text": [
      "313/313 [==============================] - 3s 9ms/step - loss: 1.7103 - accuracy: 0.4402\n"
     ]
    }
   ],
   "source": [
    "eval_2 = model_2.evaluate(x_test,y_test)"
   ]
  },
  {
   "cell_type": "code",
   "execution_count": 19,
   "id": "c438a68f",
   "metadata": {},
   "outputs": [
    {
     "name": "stdout",
     "output_type": "stream",
     "text": [
      "Loss of the model-2: 1.7102687358856201\n",
      "Accuracy of the model-2: 0.44020000100135803\n"
     ]
    }
   ],
   "source": [
    "print('Loss of the model-2:',eval_2[0])\n",
    "print('Accuracy of the model-2:',eval_2[1])"
   ]
  },
  {
   "cell_type": "markdown",
   "id": "39978152",
   "metadata": {},
   "source": [
    "#### Part-2"
   ]
  },
  {
   "cell_type": "code",
   "execution_count": 20,
   "id": "009db804",
   "metadata": {},
   "outputs": [],
   "source": [
    "model_b = bmodel()\n",
    "batch_size = 32\n",
    "\n",
    "opt = keras.optimizers.RMSprop(lr=0.0005,decay=1e-6)\n",
    "\n",
    "model_b.compile(loss='categorical_crossentropy',optimizer = opt,\n",
    "               metrics=['accuracy'])"
   ]
  },
  {
   "cell_type": "code",
   "execution_count": 21,
   "id": "c6772dc4",
   "metadata": {},
   "outputs": [
    {
     "name": "stdout",
     "output_type": "stream",
     "text": [
      "Epoch 1/15\n",
      "1562/1562 [==============================] - 38s 23ms/step - loss: 1.7519 - accuracy: 0.3621 - val_loss: 1.6635 - val_accuracy: 0.4157\n",
      "Epoch 2/15\n",
      "1562/1562 [==============================] - 35s 23ms/step - loss: 1.4804 - accuracy: 0.4672 - val_loss: 1.3726 - val_accuracy: 0.5045\n",
      "Epoch 3/15\n",
      "1562/1562 [==============================] - 35s 23ms/step - loss: 1.3777 - accuracy: 0.5070 - val_loss: 1.2334 - val_accuracy: 0.5646\n",
      "Epoch 4/15\n",
      "1562/1562 [==============================] - 35s 22ms/step - loss: 1.3118 - accuracy: 0.5339 - val_loss: 1.1996 - val_accuracy: 0.5719\n",
      "Epoch 5/15\n",
      "1562/1562 [==============================] - 35s 22ms/step - loss: 1.2609 - accuracy: 0.5529 - val_loss: 1.1762 - val_accuracy: 0.5834\n",
      "Epoch 6/15\n",
      "1562/1562 [==============================] - 35s 23ms/step - loss: 1.2227 - accuracy: 0.5675 - val_loss: 1.1729 - val_accuracy: 0.5881\n",
      "Epoch 7/15\n",
      "1562/1562 [==============================] - 35s 22ms/step - loss: 1.1964 - accuracy: 0.5775 - val_loss: 1.1861 - val_accuracy: 0.5859\n",
      "Epoch 8/15\n",
      "1562/1562 [==============================] - 35s 23ms/step - loss: 1.1768 - accuracy: 0.5864 - val_loss: 1.0840 - val_accuracy: 0.6261\n",
      "Epoch 9/15\n",
      "1562/1562 [==============================] - 35s 23ms/step - loss: 1.1482 - accuracy: 0.5977 - val_loss: 1.0668 - val_accuracy: 0.6299\n",
      "Epoch 10/15\n",
      "1562/1562 [==============================] - 35s 23ms/step - loss: 1.1451 - accuracy: 0.6006 - val_loss: 1.1167 - val_accuracy: 0.6128\n",
      "Epoch 11/15\n",
      "1562/1562 [==============================] - 35s 23ms/step - loss: 1.1248 - accuracy: 0.6061 - val_loss: 1.0592 - val_accuracy: 0.6341\n",
      "Epoch 12/15\n",
      "1562/1562 [==============================] - 35s 23ms/step - loss: 1.1142 - accuracy: 0.6137 - val_loss: 1.0890 - val_accuracy: 0.6279\n",
      "Epoch 13/15\n",
      "1562/1562 [==============================] - 35s 23ms/step - loss: 1.1081 - accuracy: 0.6179 - val_loss: 1.0523 - val_accuracy: 0.6387\n",
      "Epoch 14/15\n",
      "1562/1562 [==============================] - 35s 22ms/step - loss: 1.0971 - accuracy: 0.6202 - val_loss: 1.1257 - val_accuracy: 0.6194\n",
      "Epoch 15/15\n",
      "1562/1562 [==============================] - 35s 23ms/step - loss: 1.0944 - accuracy: 0.6247 - val_loss: 1.0345 - val_accuracy: 0.6476\n"
     ]
    },
    {
     "data": {
      "text/plain": [
       "<keras.callbacks.History at 0x1dc9c4a4070>"
      ]
     },
     "execution_count": 21,
     "metadata": {},
     "output_type": "execute_result"
    }
   ],
   "source": [
    "model_b.fit(x_train,y_train,batch_size=batch_size,\n",
    "           steps_per_epoch = x_train.shape[0]//batch_size,\n",
    "           epochs =15,\n",
    "           validation_data = (x_test,y_test))"
   ]
  },
  {
   "cell_type": "code",
   "execution_count": 22,
   "id": "5e0cdbfe",
   "metadata": {},
   "outputs": [
    {
     "name": "stdout",
     "output_type": "stream",
     "text": [
      "313/313 [==============================] - 3s 9ms/step - loss: 1.0345 - accuracy: 0.6476\n"
     ]
    }
   ],
   "source": [
    "eval_b = model_b.evaluate(x_test,y_test)"
   ]
  },
  {
   "cell_type": "code",
   "execution_count": 23,
   "id": "2c2658cf",
   "metadata": {},
   "outputs": [
    {
     "name": "stdout",
     "output_type": "stream",
     "text": [
      "Loss of the model-B: 1.03450608253479\n",
      "Accuracy of the model-B: 0.647599995136261\n"
     ]
    }
   ],
   "source": [
    "print('Loss of the model-B:',eval_b[0])\n",
    "print('Accuracy of the model-B:',eval_b[1])"
   ]
  },
  {
   "cell_type": "markdown",
   "id": "d10d1626",
   "metadata": {},
   "source": [
    "#### New model"
   ]
  },
  {
   "cell_type": "code",
   "execution_count": 27,
   "id": "78edb876",
   "metadata": {},
   "outputs": [],
   "source": [
    "def newmodel():\n",
    "    model = Sequential()\n",
    "    model.add(Conv2D(32,(5,5),strides=(1,1),padding='same',\n",
    "                    input_shape=x_train.shape[1:],activation='relu'))\n",
    "    model.add(Conv2D(32,(5,5),strides=(1,1),activation='relu'))\n",
    "    model.add(MaxPooling2D(2,2))\n",
    "    model.add(Conv2D(32,(5,5),strides=(1,1),activation='relu'))\n",
    "    model.add(Conv2D(32,(5,5),strides=(1,1),activation='relu'))\n",
    "    model.add(MaxPooling2D(2,2))\n",
    "    model.add(Flatten())\n",
    "    model.add(Dropout(0.25))\n",
    "    model.add(Dense(256,activation='relu'))\n",
    "    model.add(Dropout(0.5))\n",
    "    model.add(Dense(num_classes,activation='softmax'))\n",
    "    return model"
   ]
  },
  {
   "cell_type": "code",
   "execution_count": 28,
   "id": "50ba2533",
   "metadata": {},
   "outputs": [
    {
     "name": "stdout",
     "output_type": "stream",
     "text": [
      "Model: \"sequential_6\"\n",
      "_________________________________________________________________\n",
      " Layer (type)                Output Shape              Param #   \n",
      "=================================================================\n",
      " conv2d_14 (Conv2D)          (None, 32, 32, 32)        2432      \n",
      "                                                                 \n",
      " conv2d_15 (Conv2D)          (None, 28, 28, 32)        25632     \n",
      "                                                                 \n",
      " max_pooling2d_7 (MaxPooling  (None, 14, 14, 32)       0         \n",
      " 2D)                                                             \n",
      "                                                                 \n",
      " conv2d_16 (Conv2D)          (None, 10, 10, 32)        25632     \n",
      "                                                                 \n",
      " conv2d_17 (Conv2D)          (None, 6, 6, 32)          25632     \n",
      "                                                                 \n",
      " max_pooling2d_8 (MaxPooling  (None, 3, 3, 32)         0         \n",
      " 2D)                                                             \n",
      "                                                                 \n",
      " flatten_6 (Flatten)         (None, 288)               0         \n",
      "                                                                 \n",
      " dropout_12 (Dropout)        (None, 288)               0         \n",
      "                                                                 \n",
      " dense_12 (Dense)            (None, 256)               73984     \n",
      "                                                                 \n",
      " dropout_13 (Dropout)        (None, 256)               0         \n",
      "                                                                 \n",
      " dense_13 (Dense)            (None, 10)                2570      \n",
      "                                                                 \n",
      "=================================================================\n",
      "Total params: 155,882\n",
      "Trainable params: 155,882\n",
      "Non-trainable params: 0\n",
      "_________________________________________________________________\n"
     ]
    }
   ],
   "source": [
    "model_n = newmodel()\n",
    "model_n.summary()\n",
    "batch_size = 32\n",
    "\n",
    "opt = keras.optimizers.RMSprop(lr=0.0005,decay=1e-6)\n",
    "\n",
    "model_n.compile(loss='categorical_crossentropy',optimizer = opt,\n",
    "               metrics=['accuracy'])"
   ]
  },
  {
   "cell_type": "code",
   "execution_count": 29,
   "id": "d70746d7",
   "metadata": {},
   "outputs": [
    {
     "name": "stdout",
     "output_type": "stream",
     "text": [
      "Epoch 1/10\n"
     ]
    },
    {
     "name": "stderr",
     "output_type": "stream",
     "text": [
      "C:\\Users\\Bharat\\AppData\\Local\\Temp\\ipykernel_14300\\3978520327.py:1: UserWarning: `Model.fit_generator` is deprecated and will be removed in a future version. Please use `Model.fit`, which supports generators.\n",
      "  model_n.fit_generator(datagen.flow(x_train,y_train,\n"
     ]
    },
    {
     "name": "stdout",
     "output_type": "stream",
     "text": [
      "1562/1562 [==============================] - 199s 126ms/step - loss: 2.0086 - accuracy: 0.2467 - val_loss: 1.7110 - val_accuracy: 0.3614\n",
      "Epoch 2/10\n",
      "1562/1562 [==============================] - 197s 126ms/step - loss: 1.7899 - accuracy: 0.3407 - val_loss: 1.5694 - val_accuracy: 0.4254\n",
      "Epoch 3/10\n",
      "1562/1562 [==============================] - 192s 123ms/step - loss: 1.6793 - accuracy: 0.3887 - val_loss: 1.4803 - val_accuracy: 0.4764\n",
      "Epoch 4/10\n",
      "1562/1562 [==============================] - 192s 123ms/step - loss: 1.6185 - accuracy: 0.4161 - val_loss: 1.4594 - val_accuracy: 0.4771\n",
      "Epoch 5/10\n",
      "1562/1562 [==============================] - 195s 125ms/step - loss: 1.5693 - accuracy: 0.4388 - val_loss: 1.4117 - val_accuracy: 0.4937\n",
      "Epoch 6/10\n",
      "1562/1562 [==============================] - 194s 124ms/step - loss: 1.5447 - accuracy: 0.4504 - val_loss: 1.4344 - val_accuracy: 0.5034\n",
      "Epoch 7/10\n",
      "1562/1562 [==============================] - 194s 124ms/step - loss: 1.5240 - accuracy: 0.4615 - val_loss: 1.4152 - val_accuracy: 0.5093\n",
      "Epoch 8/10\n",
      "1562/1562 [==============================] - 195s 125ms/step - loss: 1.5132 - accuracy: 0.4660 - val_loss: 1.5365 - val_accuracy: 0.4888\n",
      "Epoch 9/10\n",
      "1562/1562 [==============================] - 194s 124ms/step - loss: 1.4994 - accuracy: 0.4724 - val_loss: 1.4598 - val_accuracy: 0.5111\n",
      "Epoch 10/10\n",
      "1562/1562 [==============================] - 193s 123ms/step - loss: 1.5014 - accuracy: 0.4747 - val_loss: 1.3625 - val_accuracy: 0.5235\n"
     ]
    },
    {
     "data": {
      "text/plain": [
       "<keras.callbacks.History at 0x1dc9e683ac0>"
      ]
     },
     "execution_count": 29,
     "metadata": {},
     "output_type": "execute_result"
    }
   ],
   "source": [
    "model_n.fit_generator(datagen.flow(x_train,y_train,\n",
    "                                batch_size=batch_size),\n",
    "                   steps_per_epoch = x_train.shape[0]//batch_size,\n",
    "                   epochs = 10,\n",
    "                   validation_data = (x_test,y_test))"
   ]
  },
  {
   "cell_type": "code",
   "execution_count": 30,
   "id": "dcddc8ad",
   "metadata": {},
   "outputs": [
    {
     "name": "stdout",
     "output_type": "stream",
     "text": [
      "313/313 [==============================] - 10s 31ms/step - loss: 1.3625 - accuracy: 0.5235\n"
     ]
    }
   ],
   "source": [
    "eval_n = model_n.evaluate(x_test,y_test)"
   ]
  },
  {
   "cell_type": "code",
   "execution_count": 31,
   "id": "2fcda14b",
   "metadata": {},
   "outputs": [
    {
     "name": "stdout",
     "output_type": "stream",
     "text": [
      "Loss of the model-n:  1.3624515533447266\n",
      "Accuracy of the model-n:  0.5235000252723694\n"
     ]
    }
   ],
   "source": [
    "print('Loss of the model-n: ',eval_n[0])\n",
    "print('Accuracy of the model-n: ',eval_n[1])"
   ]
  },
  {
   "cell_type": "code",
   "execution_count": null,
   "id": "1cacab48",
   "metadata": {},
   "outputs": [],
   "source": []
  }
 ],
 "metadata": {
  "kernelspec": {
   "display_name": "Python 3 (ipykernel)",
   "language": "python",
   "name": "python3"
  },
  "language_info": {
   "codemirror_mode": {
    "name": "ipython",
    "version": 3
   },
   "file_extension": ".py",
   "mimetype": "text/x-python",
   "name": "python",
   "nbconvert_exporter": "python",
   "pygments_lexer": "ipython3",
   "version": "3.9.12"
  }
 },
 "nbformat": 4,
 "nbformat_minor": 5
}
